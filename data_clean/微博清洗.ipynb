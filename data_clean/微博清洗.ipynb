{
 "cells": [
  {
   "cell_type": "code",
   "execution_count": null,
   "metadata": {},
   "outputs": [],
   "source": []
  },
  {
   "cell_type": "code",
   "execution_count": 11,
   "metadata": {},
   "outputs": [],
   "source": [
    "import re\n",
    "import jieba\n",
    "import numpy as np\n",
    "import pandas as pd"
   ]
  },
  {
   "cell_type": "code",
   "execution_count": 17,
   "metadata": {},
   "outputs": [],
   "source": [
    "wb=pd.read_csv(\"weibo1.csv\",encoding=\"gb18030\",delimiter=\"\\t\")"
   ]
  },
  {
   "cell_type": "code",
   "execution_count": 18,
   "metadata": {
    "scrolled": true
   },
   "outputs": [
    {
     "data": {
      "text/html": [
       "<div>\n",
       "<style scoped>\n",
       "    .dataframe tbody tr th:only-of-type {\n",
       "        vertical-align: middle;\n",
       "    }\n",
       "\n",
       "    .dataframe tbody tr th {\n",
       "        vertical-align: top;\n",
       "    }\n",
       "\n",
       "    .dataframe thead th {\n",
       "        text-align: right;\n",
       "    }\n",
       "</style>\n",
       "<table border=\"1\" class=\"dataframe\">\n",
       "  <thead>\n",
       "    <tr style=\"text-align: right;\">\n",
       "      <th></th>\n",
       "      <th>微博id</th>\n",
       "      <th>微博正文</th>\n",
       "      <th>头条文章url</th>\n",
       "      <th>原始图片url</th>\n",
       "      <th>微博视频url</th>\n",
       "      <th>发布位置</th>\n",
       "      <th>发布时间</th>\n",
       "      <th>发布工具</th>\n",
       "      <th>点赞数</th>\n",
       "      <th>转发数</th>\n",
       "      <th>评论数</th>\n",
       "    </tr>\n",
       "  </thead>\n",
       "  <tbody>\n",
       "    <tr>\n",
       "      <th>0</th>\n",
       "      <td>JB8ffrMtA</td>\n",
       "      <td>————这是一条顺顺利利的置顶??————内??:唯肖战??韩??:唯infinite??一...</td>\n",
       "      <td>NaN</td>\n",
       "      <td>http://ww4.sinaimg.cn/large/87629168ly1gmh6f5r...</td>\n",
       "      <td>无</td>\n",
       "      <td>无</td>\n",
       "      <td>2021/1/1 10:05</td>\n",
       "      <td>温婉居家のiPhone客户端</td>\n",
       "      <td>48</td>\n",
       "      <td>2</td>\n",
       "      <td>25</td>\n",
       "    </tr>\n",
       "    <tr>\n",
       "      <th>1</th>\n",
       "      <td>K5PsCsnvE</td>\n",
       "      <td>风水轮流转，往死里转！ ?[组图共9张]?原图?</td>\n",
       "      <td>NaN</td>\n",
       "      <td>http://ww3.sinaimg.cn/large/87629168ly1gogzat0...</td>\n",
       "      <td>无</td>\n",
       "      <td>无</td>\n",
       "      <td>2021/3/12 12:00</td>\n",
       "      <td>肖战顺顺利利</td>\n",
       "      <td>1</td>\n",
       "      <td>0</td>\n",
       "      <td>0</td>\n",
       "    </tr>\n",
       "    <tr>\n",
       "      <th>2</th>\n",
       "      <td>K5OHIewo3</td>\n",
       "      <td>#肖战[超话]# @X玖少年团肖战DAYTOY i采访复习—190701 #肖战# 中国青年...</td>\n",
       "      <td>NaN</td>\n",
       "      <td>无</td>\n",
       "      <td>http://f.video.weibocdn.com/003eV1aogx07BVp7O5...</td>\n",
       "      <td>无</td>\n",
       "      <td>2021/3/12 10:05</td>\n",
       "      <td>肖战超话</td>\n",
       "      <td>8</td>\n",
       "      <td>5</td>\n",
       "      <td>43</td>\n",
       "    </tr>\n",
       "    <tr>\n",
       "      <th>3</th>\n",
       "      <td>K5OHE9Fwr</td>\n",
       "      <td>我为#肖战[超话]#贡献66影响力，超话目前在明星超话No.1！戳这里→http://t.c...</td>\n",
       "      <td>NaN</td>\n",
       "      <td>无</td>\n",
       "      <td>无</td>\n",
       "      <td>无</td>\n",
       "      <td>2021/3/12 10:05</td>\n",
       "      <td>超话</td>\n",
       "      <td>0</td>\n",
       "      <td>0</td>\n",
       "      <td>0</td>\n",
       "    </tr>\n",
       "    <tr>\n",
       "      <th>4</th>\n",
       "      <td>K5OhdyQ9g</td>\n",
       "      <td>我在肖战最好的你超话等级达到LV.12，获得人气粉丝头衔，小伙伴们快来加入超话一起聊聊吧！超...</td>\n",
       "      <td>NaN</td>\n",
       "      <td>无</td>\n",
       "      <td>无</td>\n",
       "      <td>无</td>\n",
       "      <td>2021/3/12 9:00</td>\n",
       "      <td>超话</td>\n",
       "      <td>2</td>\n",
       "      <td>0</td>\n",
       "      <td>0</td>\n",
       "    </tr>\n",
       "  </tbody>\n",
       "</table>\n",
       "</div>"
      ],
      "text/plain": [
       "        微博id                                               微博正文  头条文章url  \\\n",
       "0  JB8ffrMtA  ————这是一条顺顺利利的置顶??————内??:唯肖战??韩??:唯infinite??一...      NaN   \n",
       "1  K5PsCsnvE                           风水轮流转，往死里转！ ?[组图共9张]?原图?      NaN   \n",
       "2  K5OHIewo3  #肖战[超话]# @X玖少年团肖战DAYTOY i采访复习—190701 #肖战# 中国青年...      NaN   \n",
       "3  K5OHE9Fwr  我为#肖战[超话]#贡献66影响力，超话目前在明星超话No.1！戳这里→http://t.c...      NaN   \n",
       "4  K5OhdyQ9g  我在肖战最好的你超话等级达到LV.12，获得人气粉丝头衔，小伙伴们快来加入超话一起聊聊吧！超...      NaN   \n",
       "\n",
       "                                             原始图片url  \\\n",
       "0  http://ww4.sinaimg.cn/large/87629168ly1gmh6f5r...   \n",
       "1  http://ww3.sinaimg.cn/large/87629168ly1gogzat0...   \n",
       "2                                                  无   \n",
       "3                                                  无   \n",
       "4                                                  无   \n",
       "\n",
       "                                             微博视频url 发布位置             发布时间  \\\n",
       "0                                                  无    无   2021/1/1 10:05   \n",
       "1                                                  无    无  2021/3/12 12:00   \n",
       "2  http://f.video.weibocdn.com/003eV1aogx07BVp7O5...    无  2021/3/12 10:05   \n",
       "3                                                  无    无  2021/3/12 10:05   \n",
       "4                                                  无    无   2021/3/12 9:00   \n",
       "\n",
       "             发布工具  点赞数  转发数  评论数  \n",
       "0  温婉居家のiPhone客户端   48    2   25  \n",
       "1          肖战顺顺利利    1    0    0  \n",
       "2            肖战超话    8    5   43  \n",
       "3              超话    0    0    0  \n",
       "4              超话    2    0    0  "
      ]
     },
     "execution_count": 18,
     "metadata": {},
     "output_type": "execute_result"
    }
   ],
   "source": [
    "wb.head()"
   ]
  },
  {
   "cell_type": "code",
   "execution_count": 28,
   "metadata": {},
   "outputs": [
    {
     "data": {
      "text/plain": [
       "'肖战 工作室 你 还 行不行 诗写 好了没 想 看 帅哥'"
      ]
     },
     "execution_count": 28,
     "metadata": {},
     "output_type": "execute_result"
    }
   ],
   "source": [
    "text0 = '@肖战工作室 你还行不行！诗写好了没！想看帅哥 ?'\n",
    "# text0 = fi.read()  # 获取文本内容\n",
    "text1 = re.sub(\"@([\\s\\S]*?):\", \"\", text0)  # 去除@ ...：\n",
    "text2 = re.sub(\"\\[([\\S\\s]*?)\\]\", \"\",text1)  # [...]：\n",
    "text3 = re.sub(\"@([\\s\\S]*?)\", \"\", text2)  # 去除@...\n",
    "text4 = re.sub(\"[\\.\\!\\/_,$%^*(+\\\"\\']+|[+——！，。？、~@#￥%……&*（）]+\", \"\", text3)  # 去除标点及特殊符号\n",
    "text5 = re.sub(\"[^\\u4e00-\\u9fa5]\", \"\", text4)  # 去除所有非汉字内容（英文数字）\n",
    "new_text = jieba.cut(text5, cut_all=False)  # 精确模式\n",
    "str_out = ' '.join(new_text)\n",
    "str_out"
   ]
  },
  {
   "cell_type": "markdown",
   "metadata": {},
   "source": [
    "[参考文档](https://www.squncle.com/article/2020/4/23/19864.html)"
   ]
  },
  {
   "cell_type": "code",
   "execution_count": null,
   "metadata": {},
   "outputs": [],
   "source": []
  },
  {
   "cell_type": "code",
   "execution_count": null,
   "metadata": {},
   "outputs": [],
   "source": []
  }
 ],
 "metadata": {
  "kernelspec": {
   "display_name": "Python 3",
   "language": "python",
   "name": "python3"
  },
  "language_info": {
   "codemirror_mode": {
    "name": "ipython",
    "version": 3
   },
   "file_extension": ".py",
   "mimetype": "text/x-python",
   "name": "python",
   "nbconvert_exporter": "python",
   "pygments_lexer": "ipython3",
   "version": "3.7.6"
  }
 },
 "nbformat": 4,
 "nbformat_minor": 4
}
