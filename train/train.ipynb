{
 "cells": [
  {
   "cell_type": "code",
   "execution_count": 4,
   "metadata": {},
   "outputs": [
    {
     "name": "stdout",
     "output_type": "stream",
     "text": [
      "\u001b[33mWARNING: The directory '/Users/mac/Library/Caches/pip' or its parent directory is not owned or is not writable by the current user. The cache has been disabled. Check the permissions and owner of that directory. If executing pip with sudo, you may want sudo's -H flag.\u001b[0m\n",
      "Looking in indexes: https://pypi.python.org/simple\n",
      "Collecting opencv-python==4.2.0.32\n",
      "  Downloading opencv_python-4.2.0.32-cp38-cp38-macosx_10_9_x86_64.whl (47.9 MB)\n",
      "\u001b[K     |████████████████████████████████| 47.9 MB 1.7 MB/s eta 0:00:01    |▋                               | 870 kB 602 kB/s eta 0:01:19     |████████████▊                   | 19.0 MB 1.4 MB/s eta 0:00:20     |█████████████▎                  | 19.8 MB 1.4 MB/s eta 0:00:20     |██████████████████████          | 32.8 MB 7.5 MB/s eta 0:00:03\n",
      "\u001b[?25hRequirement already satisfied: numpy>=1.17.3 in /Users/mac/opt/anaconda3/lib/python3.8/site-packages (from opencv-python==4.2.0.32) (1.18.5)\n",
      "Installing collected packages: opencv-python\n",
      "  Attempting uninstall: opencv-python\n",
      "    Found existing installation: opencv-python 4.4.0.46\n",
      "    Uninstalling opencv-python-4.4.0.46:\n",
      "      Successfully uninstalled opencv-python-4.4.0.46\n",
      "Successfully installed opencv-python-4.2.0.32\n",
      "\u001b[33mWARNING: The directory '/Users/mac/Library/Caches/pip' or its parent directory is not owned or is not writable by the current user. The cache has been disabled. Check the permissions and owner of that directory. If executing pip with sudo, you may want sudo's -H flag.\u001b[0m\n",
      "Looking in indexes: https://pypi.python.org/simple\n",
      "Requirement already satisfied: paddlehub==1.8.0 in /Users/mac/opt/anaconda3/lib/python3.8/site-packages (1.8.0)\n",
      "Requirement already satisfied: sentencepiece in /Users/mac/opt/anaconda3/lib/python3.8/site-packages (from paddlehub==1.8.0) (0.1.95)\n",
      "Requirement already satisfied: protobuf>=3.6.0 in /Users/mac/opt/anaconda3/lib/python3.8/site-packages (from paddlehub==1.8.0) (3.14.0)\n",
      "Requirement already satisfied: six>=1.10.0 in /Users/mac/opt/anaconda3/lib/python3.8/site-packages (from paddlehub==1.8.0) (1.15.0)\n",
      "Requirement already satisfied: flask>=1.1.0 in /Users/mac/opt/anaconda3/lib/python3.8/site-packages (from paddlehub==1.8.0) (1.1.2)\n",
      "Requirement already satisfied: gunicorn>=19.10.0 in /Users/mac/opt/anaconda3/lib/python3.8/site-packages (from paddlehub==1.8.0) (20.0.4)\n",
      "Requirement already satisfied: nltk in /Users/mac/opt/anaconda3/lib/python3.8/site-packages (from paddlehub==1.8.0) (3.5)\n",
      "Requirement already satisfied: tqdm in /Users/mac/opt/anaconda3/lib/python3.8/site-packages (from paddlehub==1.8.0) (4.50.2)\n",
      "Requirement already satisfied: pre-commit in /Users/mac/opt/anaconda3/lib/python3.8/site-packages (from paddlehub==1.8.0) (2.11.1)\n",
      "Requirement already satisfied: flake8 in /Users/mac/opt/anaconda3/lib/python3.8/site-packages (from paddlehub==1.8.0) (3.8.4)\n",
      "Requirement already satisfied: cma>=2.7.0 in /Users/mac/opt/anaconda3/lib/python3.8/site-packages (from paddlehub==1.8.0) (3.0.3)\n",
      "Requirement already satisfied: visualdl>=2.0.0b in /Users/mac/opt/anaconda3/lib/python3.8/site-packages (from paddlehub==1.8.0) (2.1.1)\n",
      "Requirement already satisfied: yapf==0.26.0 in /Users/mac/opt/anaconda3/lib/python3.8/site-packages (from paddlehub==1.8.0) (0.26.0)\n",
      "Requirement already satisfied: colorlog in /Users/mac/opt/anaconda3/lib/python3.8/site-packages (from paddlehub==1.8.0) (4.8.0)\n",
      "Requirement already satisfied: pandas in /Users/mac/opt/anaconda3/lib/python3.8/site-packages (from paddlehub==1.8.0) (1.1.3)\n",
      "Requirement already satisfied: numpy in /Users/mac/opt/anaconda3/lib/python3.8/site-packages (from cma>=2.7.0->paddlehub==1.8.0) (1.18.5)\n",
      "Requirement already satisfied: Werkzeug>=0.15 in /Users/mac/opt/anaconda3/lib/python3.8/site-packages (from flask>=1.1.0->paddlehub==1.8.0) (1.0.1)\n",
      "Requirement already satisfied: itsdangerous>=0.24 in /Users/mac/opt/anaconda3/lib/python3.8/site-packages (from flask>=1.1.0->paddlehub==1.8.0) (1.1.0)\n",
      "Requirement already satisfied: Jinja2>=2.10.1 in /Users/mac/opt/anaconda3/lib/python3.8/site-packages (from flask>=1.1.0->paddlehub==1.8.0) (2.11.2)\n",
      "Requirement already satisfied: click>=5.1 in /Users/mac/opt/anaconda3/lib/python3.8/site-packages (from flask>=1.1.0->paddlehub==1.8.0) (7.1.2)\n",
      "Requirement already satisfied: setuptools>=3.0 in /Users/mac/opt/anaconda3/lib/python3.8/site-packages (from gunicorn>=19.10.0->paddlehub==1.8.0) (52.0.0)\n",
      "Requirement already satisfied: MarkupSafe>=0.23 in /Users/mac/opt/anaconda3/lib/python3.8/site-packages (from Jinja2>=2.10.1->flask>=1.1.0->paddlehub==1.8.0) (1.1.1)\n",
      "Requirement already satisfied: requests in /Users/mac/opt/anaconda3/lib/python3.8/site-packages (from visualdl>=2.0.0b->paddlehub==1.8.0) (2.25.1)\n",
      "Requirement already satisfied: Pillow>=7.0.0 in /Users/mac/opt/anaconda3/lib/python3.8/site-packages (from visualdl>=2.0.0b->paddlehub==1.8.0) (8.1.0)\n",
      "Requirement already satisfied: Flask-Babel>=1.0.0 in /Users/mac/opt/anaconda3/lib/python3.8/site-packages (from visualdl>=2.0.0b->paddlehub==1.8.0) (2.0.0)\n",
      "Requirement already satisfied: shellcheck-py in /Users/mac/opt/anaconda3/lib/python3.8/site-packages (from visualdl>=2.0.0b->paddlehub==1.8.0) (0.7.1.1)\n",
      "Requirement already satisfied: bce-python-sdk in /Users/mac/opt/anaconda3/lib/python3.8/site-packages (from visualdl>=2.0.0b->paddlehub==1.8.0) (0.8.59)\n",
      "Requirement already satisfied: pyflakes<2.3.0,>=2.2.0 in /Users/mac/opt/anaconda3/lib/python3.8/site-packages (from flake8->paddlehub==1.8.0) (2.2.0)\n",
      "Requirement already satisfied: mccabe<0.7.0,>=0.6.0 in /Users/mac/opt/anaconda3/lib/python3.8/site-packages (from flake8->paddlehub==1.8.0) (0.6.1)\n",
      "Requirement already satisfied: pycodestyle<2.7.0,>=2.6.0a1 in /Users/mac/opt/anaconda3/lib/python3.8/site-packages (from flake8->paddlehub==1.8.0) (2.6.0)\n",
      "Requirement already satisfied: Babel>=2.3 in /Users/mac/opt/anaconda3/lib/python3.8/site-packages (from Flask-Babel>=1.0.0->visualdl>=2.0.0b->paddlehub==1.8.0) (2.8.1)\n",
      "Requirement already satisfied: pytz in /Users/mac/opt/anaconda3/lib/python3.8/site-packages (from Flask-Babel>=1.0.0->visualdl>=2.0.0b->paddlehub==1.8.0) (2020.5)\n",
      "Requirement already satisfied: future>=0.6.0 in /Users/mac/opt/anaconda3/lib/python3.8/site-packages (from bce-python-sdk->visualdl>=2.0.0b->paddlehub==1.8.0) (0.18.2)\n",
      "Requirement already satisfied: pycryptodome>=3.8.0 in /Users/mac/opt/anaconda3/lib/python3.8/site-packages (from bce-python-sdk->visualdl>=2.0.0b->paddlehub==1.8.0) (3.10.1)\n",
      "Requirement already satisfied: regex in /Users/mac/opt/anaconda3/lib/python3.8/site-packages (from nltk->paddlehub==1.8.0) (2020.9.27)\n",
      "Requirement already satisfied: joblib in /Users/mac/opt/anaconda3/lib/python3.8/site-packages (from nltk->paddlehub==1.8.0) (0.15.1)\n",
      "Requirement already satisfied: python-dateutil>=2.7.3 in /Users/mac/opt/anaconda3/lib/python3.8/site-packages (from pandas->paddlehub==1.8.0) (2.8.1)\n",
      "Requirement already satisfied: virtualenv>=20.0.8 in /Users/mac/opt/anaconda3/lib/python3.8/site-packages (from pre-commit->paddlehub==1.8.0) (20.2.2)\n",
      "Requirement already satisfied: nodeenv>=0.11.1 in /Users/mac/opt/anaconda3/lib/python3.8/site-packages (from pre-commit->paddlehub==1.8.0) (1.5.0)\n",
      "Requirement already satisfied: identify>=1.0.0 in /Users/mac/opt/anaconda3/lib/python3.8/site-packages (from pre-commit->paddlehub==1.8.0) (2.2.0)\n",
      "Requirement already satisfied: toml in /Users/mac/opt/anaconda3/lib/python3.8/site-packages (from pre-commit->paddlehub==1.8.0) (0.10.1)\n",
      "Requirement already satisfied: pyyaml>=5.1 in /Users/mac/opt/anaconda3/lib/python3.8/site-packages (from pre-commit->paddlehub==1.8.0) (5.4.1)\n",
      "Requirement already satisfied: cfgv>=2.0.0 in /Users/mac/opt/anaconda3/lib/python3.8/site-packages (from pre-commit->paddlehub==1.8.0) (3.2.0)\n",
      "Requirement already satisfied: filelock<4,>=3.0.0 in /Users/mac/opt/anaconda3/lib/python3.8/site-packages (from virtualenv>=20.0.8->pre-commit->paddlehub==1.8.0) (3.0.12)\n",
      "Requirement already satisfied: distlib<1,>=0.3.1 in /Users/mac/opt/anaconda3/lib/python3.8/site-packages (from virtualenv>=20.0.8->pre-commit->paddlehub==1.8.0) (0.3.1)\n",
      "Requirement already satisfied: appdirs<2,>=1.4.3 in /Users/mac/opt/anaconda3/lib/python3.8/site-packages (from virtualenv>=20.0.8->pre-commit->paddlehub==1.8.0) (1.4.4)\n",
      "Requirement already satisfied: certifi>=2017.4.17 in /Users/mac/opt/anaconda3/lib/python3.8/site-packages (from requests->visualdl>=2.0.0b->paddlehub==1.8.0) (2020.12.5)\n",
      "Requirement already satisfied: chardet<5,>=3.0.2 in /Users/mac/opt/anaconda3/lib/python3.8/site-packages (from requests->visualdl>=2.0.0b->paddlehub==1.8.0) (3.0.4)\n",
      "Requirement already satisfied: urllib3<1.27,>=1.21.1 in /Users/mac/opt/anaconda3/lib/python3.8/site-packages (from requests->visualdl>=2.0.0b->paddlehub==1.8.0) (1.26.3)\n",
      "Requirement already satisfied: idna<3,>=2.5 in /Users/mac/opt/anaconda3/lib/python3.8/site-packages (from requests->visualdl>=2.0.0b->paddlehub==1.8.0) (2.10)\n",
      "\u001b[33mWARNING: The directory '/Users/mac/Library/Caches/pip' or its parent directory is not owned or is not writable by the current user. The cache has been disabled. Check the permissions and owner of that directory. If executing pip with sudo, you may want sudo's -H flag.\u001b[0m\n",
      "Looking in indexes: https://pypi.python.org/simple\n",
      "Requirement already satisfied: paddlepaddle==1.8.5 in /Users/mac/opt/anaconda3/lib/python3.8/site-packages (1.8.5)\n",
      "Requirement already satisfied: Pillow in /Users/mac/opt/anaconda3/lib/python3.8/site-packages (from paddlepaddle==1.8.5) (8.1.0)\n",
      "Requirement already satisfied: gast==0.3.3 in /Users/mac/opt/anaconda3/lib/python3.8/site-packages (from paddlepaddle==1.8.5) (0.3.3)\n",
      "Requirement already satisfied: opencv-python<=4.2.0.32 in /Users/mac/opt/anaconda3/lib/python3.8/site-packages (from paddlepaddle==1.8.5) (4.2.0.32)\n",
      "Requirement already satisfied: requests>=2.20.0 in /Users/mac/opt/anaconda3/lib/python3.8/site-packages (from paddlepaddle==1.8.5) (2.25.1)\n",
      "Requirement already satisfied: funcsigs in /Users/mac/opt/anaconda3/lib/python3.8/site-packages (from paddlepaddle==1.8.5) (1.0.2)\n",
      "Requirement already satisfied: prettytable in /Users/mac/opt/anaconda3/lib/python3.8/site-packages (from paddlepaddle==1.8.5) (2.1.0)\n",
      "Requirement already satisfied: matplotlib in /Users/mac/opt/anaconda3/lib/python3.8/site-packages (from paddlepaddle==1.8.5) (3.3.4)\n",
      "Requirement already satisfied: scipy in /Users/mac/opt/anaconda3/lib/python3.8/site-packages (from paddlepaddle==1.8.5) (1.6.0)\n",
      "Requirement already satisfied: objgraph in /Users/mac/opt/anaconda3/lib/python3.8/site-packages (from paddlepaddle==1.8.5) (3.5.0)\n",
      "Requirement already satisfied: decorator in /Users/mac/opt/anaconda3/lib/python3.8/site-packages (from paddlepaddle==1.8.5) (4.4.2)\n",
      "Requirement already satisfied: nltk in /Users/mac/opt/anaconda3/lib/python3.8/site-packages (from paddlepaddle==1.8.5) (3.5)\n",
      "Requirement already satisfied: pyyaml in /Users/mac/opt/anaconda3/lib/python3.8/site-packages (from paddlepaddle==1.8.5) (5.4.1)\n",
      "Requirement already satisfied: graphviz in /Users/mac/opt/anaconda3/lib/python3.8/site-packages (from paddlepaddle==1.8.5) (0.16)\n",
      "Requirement already satisfied: six in /Users/mac/opt/anaconda3/lib/python3.8/site-packages (from paddlepaddle==1.8.5) (1.15.0)\n",
      "Requirement already satisfied: rarfile in /Users/mac/opt/anaconda3/lib/python3.8/site-packages (from paddlepaddle==1.8.5) (4.0)\n",
      "Requirement already satisfied: pathlib in /Users/mac/opt/anaconda3/lib/python3.8/site-packages (from paddlepaddle==1.8.5) (1.0.1)\n",
      "Requirement already satisfied: protobuf>=3.1.0 in /Users/mac/opt/anaconda3/lib/python3.8/site-packages (from paddlepaddle==1.8.5) (3.14.0)\n",
      "Requirement already satisfied: numpy>=1.12 in /Users/mac/opt/anaconda3/lib/python3.8/site-packages (from paddlepaddle==1.8.5) (1.18.5)\n",
      "Requirement already satisfied: astor in /Users/mac/opt/anaconda3/lib/python3.8/site-packages (from paddlepaddle==1.8.5) (0.8.1)\n",
      "Requirement already satisfied: urllib3<1.27,>=1.21.1 in /Users/mac/opt/anaconda3/lib/python3.8/site-packages (from requests>=2.20.0->paddlepaddle==1.8.5) (1.26.3)\n",
      "Requirement already satisfied: idna<3,>=2.5 in /Users/mac/opt/anaconda3/lib/python3.8/site-packages (from requests>=2.20.0->paddlepaddle==1.8.5) (2.10)\n",
      "Requirement already satisfied: chardet<5,>=3.0.2 in /Users/mac/opt/anaconda3/lib/python3.8/site-packages (from requests>=2.20.0->paddlepaddle==1.8.5) (3.0.4)\n",
      "Requirement already satisfied: certifi>=2017.4.17 in /Users/mac/opt/anaconda3/lib/python3.8/site-packages (from requests>=2.20.0->paddlepaddle==1.8.5) (2020.12.5)\n",
      "Requirement already satisfied: python-dateutil>=2.1 in /Users/mac/opt/anaconda3/lib/python3.8/site-packages (from matplotlib->paddlepaddle==1.8.5) (2.8.1)\n",
      "Requirement already satisfied: cycler>=0.10 in /Users/mac/opt/anaconda3/lib/python3.8/site-packages (from matplotlib->paddlepaddle==1.8.5) (0.10.0)\n",
      "Requirement already satisfied: kiwisolver>=1.0.1 in /Users/mac/opt/anaconda3/lib/python3.8/site-packages (from matplotlib->paddlepaddle==1.8.5) (1.3.1)\n",
      "Requirement already satisfied: pyparsing!=2.0.4,!=2.1.2,!=2.1.6,>=2.0.3 in /Users/mac/opt/anaconda3/lib/python3.8/site-packages (from matplotlib->paddlepaddle==1.8.5) (2.4.7)\n",
      "Requirement already satisfied: click in /Users/mac/opt/anaconda3/lib/python3.8/site-packages (from nltk->paddlepaddle==1.8.5) (7.1.2)\n",
      "Requirement already satisfied: regex in /Users/mac/opt/anaconda3/lib/python3.8/site-packages (from nltk->paddlepaddle==1.8.5) (2020.9.27)\n",
      "Requirement already satisfied: tqdm in /Users/mac/opt/anaconda3/lib/python3.8/site-packages (from nltk->paddlepaddle==1.8.5) (4.50.2)\n",
      "Requirement already satisfied: joblib in /Users/mac/opt/anaconda3/lib/python3.8/site-packages (from nltk->paddlepaddle==1.8.5) (0.15.1)\n",
      "Requirement already satisfied: wcwidth in /Users/mac/opt/anaconda3/lib/python3.8/site-packages (from prettytable->paddlepaddle==1.8.5) (0.2.5)\n",
      "\u001b[33mWARNING: The directory '/Users/mac/Library/Caches/pip' or its parent directory is not owned or is not writable by the current user. The cache has been disabled. Check the permissions and owner of that directory. If executing pip with sudo, you may want sudo's -H flag.\u001b[0m\n",
      "Looking in indexes: https://pypi.python.org/simple\n",
      "Requirement already satisfied: paddle-ernie==0.0.4.dev1 in /Users/mac/opt/anaconda3/lib/python3.8/site-packages (0.0.4.dev1)\n",
      "Requirement already satisfied: tqdm in /Users/mac/opt/anaconda3/lib/python3.8/site-packages (from paddle-ernie==0.0.4.dev1) (4.50.2)\n",
      "Requirement already satisfied: requests in /Users/mac/opt/anaconda3/lib/python3.8/site-packages (from paddle-ernie==0.0.4.dev1) (2.25.1)\n",
      "Requirement already satisfied: chardet<5,>=3.0.2 in /Users/mac/opt/anaconda3/lib/python3.8/site-packages (from requests->paddle-ernie==0.0.4.dev1) (3.0.4)\n",
      "Requirement already satisfied: idna<3,>=2.5 in /Users/mac/opt/anaconda3/lib/python3.8/site-packages (from requests->paddle-ernie==0.0.4.dev1) (2.10)\n",
      "Requirement already satisfied: certifi>=2017.4.17 in /Users/mac/opt/anaconda3/lib/python3.8/site-packages (from requests->paddle-ernie==0.0.4.dev1) (2020.12.5)\n",
      "Requirement already satisfied: urllib3<1.27,>=1.21.1 in /Users/mac/opt/anaconda3/lib/python3.8/site-packages (from requests->paddle-ernie==0.0.4.dev1) (1.26.3)\n"
     ]
    }
   ],
   "source": [
    "!sudo pip install opencv-python==4.2.0.32\n",
    "!sudo pip install paddlehub==1.8.0\n",
    "!sudo pip install paddlepaddle==1.8.5\n",
    "!sudo pip install paddle-ernie==0.0.4.dev1"
   ]
  },
  {
   "cell_type": "code",
   "execution_count": 3,
   "metadata": {},
   "outputs": [
    {
     "name": "stderr",
     "output_type": "stream",
     "text": [
      "\u001b[32m[2021-03-23 12:20:28,299] [    INFO] - Installing ernie_gen module\u001b[0m\n",
      "\u001b[32m[2021-03-23 12:20:28,318] [    INFO] - Module ernie_gen already installed in /Users/mac/.paddlehub/modules/ernie_gen\u001b[0m\n"
     ]
    }
   ],
   "source": [
    "import paddlehub as hub\n",
    "module = hub.Module(name=\"ernie_gen\")"
   ]
  },
  {
   "cell_type": "code",
   "execution_count": null,
   "metadata": {},
   "outputs": [],
   "source": [
    "\n",
    "module.finetune(\n",
    "    train_path='/data/train.txt',\n",
    "    dev_path='/data/dev.txt',\n",
    "    save_dir=\"ernie_gen_result\",\n",
    "    max_steps=600,\n",
    "    max_encode_len=200,\n",
    "    max_decode_len=200,\n",
    "    noise_prob=0.2,\n",
    "    batch_size=5,\n",
    "    log_interval=20\n",
    ")\n",
    "module.export(params_path=result['/models/'], module_name=\"FansTwits\", author=\"\")"
   ]
  },
  {
   "cell_type": "code",
   "execution_count": 1,
   "metadata": {},
   "outputs": [
    {
     "name": "stdout",
     "output_type": "stream",
     "text": [
      "Can't find module FansTwits, please check your spelling.\n"
     ]
    }
   ],
   "source": [
    "!hub install FansTwits"
   ]
  },
  {
   "cell_type": "code",
   "execution_count": 1,
   "metadata": {},
   "outputs": [
    {
     "name": "stderr",
     "output_type": "stream",
     "text": [
      "\u001b[32m[2021-03-23 12:04:17,403] [    INFO] - Installing FansTwits module\u001b[0m\n",
      "\u001b[31m[2021-03-23 12:04:30,316] [   ERROR] - Can't find module FansTwits, please check your spelling.\u001b[0m\n"
     ]
    },
    {
     "ename": "RuntimeError",
     "evalue": "Can't find module FansTwits, please check your spelling.",
     "output_type": "error",
     "traceback": [
      "\u001b[0;31m---------------------------------------------------------------------------\u001b[0m",
      "\u001b[0;31mRuntimeError\u001b[0m                              Traceback (most recent call last)",
      "\u001b[0;32m<ipython-input-1-2b1a83ebefe0>\u001b[0m in \u001b[0;36m<module>\u001b[0;34m\u001b[0m\n\u001b[1;32m      1\u001b[0m \u001b[0;32mimport\u001b[0m \u001b[0mpaddlehub\u001b[0m \u001b[0;32mas\u001b[0m \u001b[0mhub\u001b[0m\u001b[0;34m\u001b[0m\u001b[0;34m\u001b[0m\u001b[0m\n\u001b[1;32m      2\u001b[0m \u001b[0;34m\u001b[0m\u001b[0m\n\u001b[0;32m----> 3\u001b[0;31m \u001b[0mmodule\u001b[0m \u001b[0;34m=\u001b[0m \u001b[0mhub\u001b[0m\u001b[0;34m.\u001b[0m\u001b[0mModule\u001b[0m\u001b[0;34m(\u001b[0m\u001b[0mname\u001b[0m\u001b[0;34m=\u001b[0m\u001b[0;34m\"FansTwits\"\u001b[0m\u001b[0;34m)\u001b[0m\u001b[0;34m\u001b[0m\u001b[0;34m\u001b[0m\u001b[0m\n\u001b[0m\u001b[1;32m      4\u001b[0m \u001b[0;34m\u001b[0m\u001b[0m\n\u001b[1;32m      5\u001b[0m \u001b[0mtest_texts\u001b[0m \u001b[0;34m=\u001b[0m \u001b[0;34m[\u001b[0m\u001b[0;34m'肖战'\u001b[0m\u001b[0;34m]\u001b[0m\u001b[0;34m\u001b[0m\u001b[0;34m\u001b[0m\u001b[0m\n",
      "\u001b[0;32m~/opt/anaconda3/lib/python3.8/site-packages/paddlehub/module/module.py\u001b[0m in \u001b[0;36m__new__\u001b[0;34m(cls, name, directory, module_dir, version, **kwargs)\u001b[0m\n\u001b[1;32m     99\u001b[0m         \u001b[0;32mif\u001b[0m \u001b[0mcls\u001b[0m\u001b[0;34m.\u001b[0m\u001b[0m__name__\u001b[0m \u001b[0;34m==\u001b[0m \u001b[0;34m\"Module\"\u001b[0m\u001b[0;34m:\u001b[0m\u001b[0;34m\u001b[0m\u001b[0;34m\u001b[0m\u001b[0m\n\u001b[1;32m    100\u001b[0m             \u001b[0;32mif\u001b[0m \u001b[0mname\u001b[0m\u001b[0;34m:\u001b[0m\u001b[0;34m\u001b[0m\u001b[0;34m\u001b[0m\u001b[0m\n\u001b[0;32m--> 101\u001b[0;31m                 module = cls.init_with_name(\n\u001b[0m\u001b[1;32m    102\u001b[0m                     name=name, version=version, **kwargs)\n\u001b[1;32m    103\u001b[0m             \u001b[0;32melif\u001b[0m \u001b[0mdirectory\u001b[0m\u001b[0;34m:\u001b[0m\u001b[0;34m\u001b[0m\u001b[0;34m\u001b[0m\u001b[0m\n",
      "\u001b[0;32m~/opt/anaconda3/lib/python3.8/site-packages/paddlehub/module/module.py\u001b[0m in \u001b[0;36minit_with_name\u001b[0;34m(cls, name, version, **kwargs)\u001b[0m\n\u001b[1;32m    172\u001b[0m         \u001b[0;32mif\u001b[0m \u001b[0;32mnot\u001b[0m \u001b[0mresult\u001b[0m\u001b[0;34m:\u001b[0m\u001b[0;34m\u001b[0m\u001b[0;34m\u001b[0m\u001b[0m\n\u001b[1;32m    173\u001b[0m             \u001b[0mlogger\u001b[0m\u001b[0;34m.\u001b[0m\u001b[0merror\u001b[0m\u001b[0;34m(\u001b[0m\u001b[0mtips\u001b[0m\u001b[0;34m)\u001b[0m\u001b[0;34m\u001b[0m\u001b[0;34m\u001b[0m\u001b[0m\n\u001b[0;32m--> 174\u001b[0;31m             \u001b[0;32mraise\u001b[0m \u001b[0mRuntimeError\u001b[0m\u001b[0;34m(\u001b[0m\u001b[0mtips\u001b[0m\u001b[0;34m)\u001b[0m\u001b[0;34m\u001b[0m\u001b[0;34m\u001b[0m\u001b[0m\n\u001b[0m\u001b[1;32m    175\u001b[0m \u001b[0;34m\u001b[0m\u001b[0m\n\u001b[1;32m    176\u001b[0m         \u001b[0mlogger\u001b[0m\u001b[0;34m.\u001b[0m\u001b[0minfo\u001b[0m\u001b[0;34m(\u001b[0m\u001b[0mtips\u001b[0m\u001b[0;34m)\u001b[0m\u001b[0;34m\u001b[0m\u001b[0;34m\u001b[0m\u001b[0m\n",
      "\u001b[0;31mRuntimeError\u001b[0m: Can't find module FansTwits, please check your spelling."
     ]
    }
   ],
   "source": [
    "import paddlehub as hub\n",
    "\n",
    "module = hub.Module(name=\"FansTwits\")\n",
    "\n",
    "test_texts = ['肖战']\n",
    "# generate包含3个参数，texts为输入文本列表，use_gpu指定是否使用gpu，beam_width指定beam search宽度。\n",
    "results = module.generate(texts=test_texts, use_gpu=True, beam_width=5)\n",
    "for result in results:\n",
    "    print(result)"
   ]
  },
  {
   "cell_type": "code",
   "execution_count": null,
   "metadata": {},
   "outputs": [],
   "source": []
  }
 ],
 "metadata": {
  "kernelspec": {
   "display_name": "Python 3",
   "language": "python",
   "name": "python3"
  },
  "language_info": {
   "codemirror_mode": {
    "name": "ipython",
    "version": 3
   },
   "file_extension": ".py",
   "mimetype": "text/x-python",
   "name": "python",
   "nbconvert_exporter": "python",
   "pygments_lexer": "ipython3",
   "version": "3.8.5"
  }
 },
 "nbformat": 4,
 "nbformat_minor": 4
}
